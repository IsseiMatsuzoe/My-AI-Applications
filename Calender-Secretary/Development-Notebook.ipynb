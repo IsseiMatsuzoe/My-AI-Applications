{
 "cells": [
  {
   "cell_type": "markdown",
   "metadata": {},
   "source": [
    "# Development Notebook\n",
    "This notebook is intended to test the functions to implement these into main function."
   ]
  },
  {
   "cell_type": "code",
   "execution_count": 8,
   "metadata": {},
   "outputs": [],
   "source": [
    "import openai\n",
    "import os\n",
    "from openai import OpenAI"
   ]
  },
  {
   "cell_type": "code",
   "execution_count": 9,
   "metadata": {},
   "outputs": [],
   "source": [
    "# Read API key from the local due to the security\n",
    "with open(r\"C:\\Users\\Issei\\Documents\\API Tokens\\ChatGPT.txt\", 'r') as file:\n",
    "    OPEN_AI_APIKEY = file.read().rstrip()\n",
    "\n",
    "client = OpenAI(\n",
    "  api_key=OPEN_AI_APIKEY\n",
    "  )"
   ]
  },
  {
   "cell_type": "code",
   "execution_count": 16,
   "metadata": {},
   "outputs": [],
   "source": [
    "def connection_test(user_input):\n",
    "    completion = client.chat.completions.create(\n",
    "        model = \"gpt-4o-mini\",\n",
    "        messages=[\n",
    "            {\n",
    "                'role': 'system',\n",
    "                'content': 'You are test chatbot to check my API function worked or not. Generate a sentence'\n",
    "            },\n",
    "            {\n",
    "                'role': 'user',\n",
    "                'content': f\"testing user input is:{user_input}\"\n",
    "            }\n",
    "        ]\n",
    "    )\n",
    "    \n",
    "    print(completion.choices[0].message.content)"
   ]
  },
  {
   "cell_type": "code",
   "execution_count": 17,
   "metadata": {},
   "outputs": [
    {
     "name": "stdout",
     "output_type": "stream",
     "text": [
      "Hello! How can I assist you today?\n"
     ]
    }
   ],
   "source": [
    "#test the fuction\n",
    "\n",
    "connection_test('Hi GPT')"
   ]
  },
  {
   "cell_type": "code",
   "execution_count": 18,
   "metadata": {},
   "outputs": [
    {
     "name": "stdout",
     "output_type": "stream",
     "text": [
      "SyncPage[Model](data=[Model(id='gpt-3.5-turbo', created=1677610602, object='model', owned_by='openai'), Model(id='gpt-4o', created=1715367049, object='model', owned_by='system'), Model(id='gpt-4o-mini', created=1721172741, object='model', owned_by='system')], object='list')\n"
     ]
    }
   ],
   "source": [
    "# Set your API key\n",
    "openai.api_key = OPEN_AI_APIKEY\n",
    "\n",
    "# List available models\n",
    "models = client.models.list()\n",
    "\n",
    "print(models)"
   ]
  },
  {
   "cell_type": "code",
   "execution_count": 45,
   "metadata": {},
   "outputs": [],
   "source": [
    "import datetime\n",
    "def parse_schedule(user_input):\n",
    "    completion = client.chat.completions.create(\n",
    "        model='gpt-4o-mini',\n",
    "        messages=[\n",
    "            {\n",
    "                'role': 'system',\n",
    "                'content':f\"\"\"\n",
    "                Extract the event details from input and 'today' is {datetime.date.today()}\n",
    "                Output Format: {{\"date\": \"YYYY-MM-DD\", \"time\": \"HH:MM\", \"event\": \"Event\"}}\n",
    "                \"\"\"\n",
    "            },\n",
    "            {\n",
    "                'role': 'user',\n",
    "                'content': f'{user_input}'\n",
    "            }\n",
    "        ],\n",
    "        max_tokens=100\n",
    "    )\n",
    "    return completion.choices[0].message.content\n"
   ]
  },
  {
   "cell_type": "code",
   "execution_count": 46,
   "metadata": {},
   "outputs": [
    {
     "name": "stdout",
     "output_type": "stream",
     "text": [
      "{\"date\": \"2024-12-02\", \"time\": \"15:00\", \"event\": \"ミーティング\"}\n"
     ]
    }
   ],
   "source": [
    "user_input = \"来週の月曜日、午後3時にミーティングを追加して\"\n",
    "parsed_schedule = parse_schedule(user_input)\n",
    "print(parsed_schedule)"
   ]
  },
  {
   "cell_type": "code",
   "execution_count": 2,
   "metadata": {},
   "outputs": [
    {
     "name": "stdout",
     "output_type": "stream",
     "text": [
      "Please visit this URL to authorize this application: https://accounts.google.com/o/oauth2/auth?response_type=code&client_id=630503106817-im66k9rhjgpu3us9b8dvkhsi4j9qku7d.apps.googleusercontent.com&redirect_uri=http%3A%2F%2Flocalhost%3A8080%2F&scope=https%3A%2F%2Fwww.googleapis.com%2Fauth%2Fcalendar&state=zeRpNlRFGkSNQ5mw3lSc69tDsgzRTE&access_type=offline\n"
     ]
    }
   ],
   "source": [
    "from google.oauth2.credentials import Credentials\n",
    "from google_auth_oauthlib.flow import InstalledAppFlow\n",
    "from googleapiclient.discovery import build\n",
    "\n",
    "# 認証フローを起動して認証済みトークンを生成\n",
    "flow = InstalledAppFlow.from_client_secrets_file(\n",
    "    r\"C:\\Users\\Issei\\Documents\\API Tokens\\CalenderSecretary\\client_secret_630503106817-im66k9rhjgpu3us9b8dvkhsi4j9qku7d.apps.googleusercontent.com.json\",\n",
    "    scopes=['https://www.googleapis.com/auth/calendar']\n",
    ")\n",
    "\n",
    "creds = flow.run_local_server(port=8080)\n",
    "\n",
    "# トークンを保存して再利用（オプション）\n",
    "with open('token.json', 'w') as token:\n",
    "    token.write(creds.to_json())\n",
    "\n",
    "# Google Calendar APIクライアントを作成\n",
    "service = build('calendar', 'v3', credentials=creds)"
   ]
  },
  {
   "cell_type": "code",
   "execution_count": 54,
   "metadata": {},
   "outputs": [],
   "source": [
    "from datetime import timedelta, datetime\n",
    "\n",
    "def add_event(service, date, time, event_name):\n",
    "    start_time = datetime.strptime(f\"{date} {time}\", \"%Y-%m-%d %H:%M\")\n",
    "    end_time = start_time + timedelta(hours=1)  # デフォルトで1時間\n",
    "\n",
    "    event = {\n",
    "        'summary': event_name,\n",
    "        'start': {\n",
    "                'dateTime': start_time.isoformat(),\n",
    "                'timeZone': 'Asia/Tokyo',\n",
    "        },\n",
    "        'end': {\n",
    "                'dateTime': end_time.isoformat(),\n",
    "                'timeZone': 'Asia/Tokyo'\n",
    "        }\n",
    "    }\n",
    "\n",
    "    event = service.events().insert(calendarId='primary', body=event).execute()\n",
    "    print(f\"Event created: {event.get('htmlLink')}\")"
   ]
  },
  {
   "cell_type": "code",
   "execution_count": 41,
   "metadata": {},
   "outputs": [],
   "source": [
    "user_input = input(\"スケジュールを入力してください: \")\n"
   ]
  },
  {
   "cell_type": "code",
   "execution_count": 55,
   "metadata": {},
   "outputs": [
    {
     "name": "stdout",
     "output_type": "stream",
     "text": [
      "Event created: https://www.google.com/calendar/event?eid=Y3UzZHJ0cTJlNTByaXE2YjRxcHVmdGNxaDQgbWF0Y2gubWF0c3V6b2VAbQ\n"
     ]
    }
   ],
   "source": [
    "#parsed_schedule = eval(parsed_schedule)  # 出力が文字列の場合、辞書に変換\n",
    "\n",
    "# 2. Google Calendarにイベントを登録\n",
    "add_event(\n",
    "    service,\n",
    "    parsed_schedule['date'],\n",
    "    parsed_schedule['time'],\n",
    "    parsed_schedule['event']\n",
    ")\n"
   ]
  }
 ],
 "metadata": {
  "kernelspec": {
   "display_name": "Python 3",
   "language": "python",
   "name": "python3"
  },
  "language_info": {
   "codemirror_mode": {
    "name": "ipython",
    "version": 3
   },
   "file_extension": ".py",
   "mimetype": "text/x-python",
   "name": "python",
   "nbconvert_exporter": "python",
   "pygments_lexer": "ipython3",
   "version": "3.11.9"
  }
 },
 "nbformat": 4,
 "nbformat_minor": 2
}
