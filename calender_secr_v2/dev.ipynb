{
 "cells": [
  {
   "cell_type": "markdown",
   "metadata": {},
   "source": [
    "# Development Notebook"
   ]
  },
  {
   "cell_type": "code",
   "execution_count": 56,
   "metadata": {},
   "outputs": [
    {
     "name": "stdout",
     "output_type": "stream",
     "text": [
      "Please visit this URL to authorize this application: https://accounts.google.com/o/oauth2/auth?response_type=code&client_id=630503106817-im66k9rhjgpu3us9b8dvkhsi4j9qku7d.apps.googleusercontent.com&redirect_uri=http%3A%2F%2Flocalhost%3A8080%2F&scope=https%3A%2F%2Fwww.googleapis.com%2Fauth%2Fcalendar&state=Bdh7HOzMQQPHeBNRcWieKyKYKg3e5g&access_type=offline\n",
      "Google Calendar APIに接続されました。\n"
     ]
    }
   ],
   "source": [
    "from google.oauth2.credentials import Credentials\n",
    "from google_auth_oauthlib.flow import InstalledAppFlow\n",
    "from googleapiclient.discovery import build\n",
    "\n",
    "SCOPES = ['https://www.googleapis.com/auth/calendar']\n",
    "\n",
    "def  get_calendar_service():\n",
    "    flow = InstalledAppFlow.from_client_secrets_file(r\"C:\\Users\\Issei\\Documents\\API Tokens\\CalenderSecretary\\client_secret_630503106817-im66k9rhjgpu3us9b8dvkhsi4j9qku7d.apps.googleusercontent.com.json\", \n",
    "    SCOPES)\n",
    "    creds = flow.run_local_server(port=8080)\n",
    "    return build('calendar', 'v3', credentials=creds)\n",
    "\n",
    "service = get_calendar_service()\n",
    "print('Google Calendar APIに接続されました。')"
   ]
  },
  {
   "cell_type": "code",
   "execution_count": 62,
   "metadata": {},
   "outputs": [
    {
     "name": "stdout",
     "output_type": "stream",
     "text": [
      "予定：\n",
      "- 2024-12-09T10:00:00+09:00: テストイベント\n",
      "- 2024-12-10T09:00:00+09:00: テストイベント\n",
      "- 2024-12-10T13:00:00+09:00: gptのテストイベント\n"
     ]
    },
    {
     "data": {
      "text/plain": [
       "[{'kind': 'calendar#event',\n",
       "  'etag': '\"3467306675308000\"',\n",
       "  'id': 'lcf69rrcfj26mojnv7ebmp54o8',\n",
       "  'status': 'confirmed',\n",
       "  'htmlLink': 'https://www.google.com/calendar/event?eid=bGNmNjlycmNmajI2bW9qbnY3ZWJtcDU0bzggbWF0Y2gubWF0c3V6b2VAbQ',\n",
       "  'created': '2024-12-08T10:22:17.000Z',\n",
       "  'updated': '2024-12-08T10:22:17.654Z',\n",
       "  'summary': 'テストイベント',\n",
       "  'creator': {'email': 'match.matsuzoe@gmail.com', 'self': True},\n",
       "  'organizer': {'email': 'match.matsuzoe@gmail.com', 'self': True},\n",
       "  'start': {'dateTime': '2024-12-09T10:00:00+09:00', 'timeZone': 'Asia/Tokyo'},\n",
       "  'end': {'dateTime': '2024-12-09T11:00:00+09:00', 'timeZone': 'Asia/Tokyo'},\n",
       "  'iCalUID': 'lcf69rrcfj26mojnv7ebmp54o8@google.com',\n",
       "  'sequence': 0,\n",
       "  'reminders': {'useDefault': True},\n",
       "  'eventType': 'default'},\n",
       " {'kind': 'calendar#event',\n",
       "  'etag': '\"3467317500130000\"',\n",
       "  'id': 'uoie14tisasvn82tbhnlsv64ms',\n",
       "  'status': 'confirmed',\n",
       "  'htmlLink': 'https://www.google.com/calendar/event?eid=dW9pZTE0dGlzYXN2bjgydGJobmxzdjY0bXMgbWF0Y2gubWF0c3V6b2VAbQ',\n",
       "  'created': '2024-12-08T11:52:30.000Z',\n",
       "  'updated': '2024-12-08T11:52:30.065Z',\n",
       "  'summary': 'テストイベント',\n",
       "  'creator': {'email': 'match.matsuzoe@gmail.com', 'self': True},\n",
       "  'organizer': {'email': 'match.matsuzoe@gmail.com', 'self': True},\n",
       "  'start': {'dateTime': '2024-12-10T09:00:00+09:00', 'timeZone': 'Asia/Tokyo'},\n",
       "  'end': {'dateTime': '2024-12-10T10:00:00+09:00', 'timeZone': 'Asia/Tokyo'},\n",
       "  'iCalUID': 'uoie14tisasvn82tbhnlsv64ms@google.com',\n",
       "  'sequence': 0,\n",
       "  'reminders': {'useDefault': True},\n",
       "  'eventType': 'default'},\n",
       " {'kind': 'calendar#event',\n",
       "  'etag': '\"3467317816422000\"',\n",
       "  'id': '4mmqthgtjt6m6aiep34khh93ag',\n",
       "  'status': 'confirmed',\n",
       "  'htmlLink': 'https://www.google.com/calendar/event?eid=NG1tcXRoZ3RqdDZtNmFpZXAzNGtoaDkzYWcgbWF0Y2gubWF0c3V6b2VAbQ',\n",
       "  'created': '2024-12-08T11:55:08.000Z',\n",
       "  'updated': '2024-12-08T11:55:08.211Z',\n",
       "  'summary': 'gptのテストイベント',\n",
       "  'creator': {'email': 'match.matsuzoe@gmail.com', 'self': True},\n",
       "  'organizer': {'email': 'match.matsuzoe@gmail.com', 'self': True},\n",
       "  'start': {'dateTime': '2024-12-10T13:00:00+09:00', 'timeZone': 'Asia/Tokyo'},\n",
       "  'end': {'dateTime': '2024-12-10T16:00:00+09:00', 'timeZone': 'Asia/Tokyo'},\n",
       "  'iCalUID': '4mmqthgtjt6m6aiep34khh93ag@google.com',\n",
       "  'sequence': 0,\n",
       "  'reminders': {'useDefault': True},\n",
       "  'eventType': 'default'}]"
      ]
     },
     "execution_count": 62,
     "metadata": {},
     "output_type": "execute_result"
    }
   ],
   "source": [
    "from datetime import datetime, timedelta\n",
    "\n",
    "def list_events(service):\n",
    "    now = datetime.utcnow().isoformat() + 'Z'\n",
    "    week_later = (datetime.utcnow() + timedelta(days=7)).isoformat() + 'Z'\n",
    "    events_result = service.events().list(calendarId='primary', timeMin=now, timeMax=week_later, maxResults=5, singleEvents=True, orderBy='startTime').execute()\n",
    "    events = events_result.get('items', [])\n",
    "\n",
    "    if not events:\n",
    "        print('直近の予定はありません。')\n",
    "    else:\n",
    "        print('予定：')\n",
    "        for event in events:\n",
    "            start = event['start'].get('dateTime', event['start'].get('date'))\n",
    "            print(f\"- {start}: {event['summary']}\")\n",
    "\n",
    "    return events\n",
    "\n",
    "list_events(service)"
   ]
  },
  {
   "cell_type": "code",
   "execution_count": 27,
   "metadata": {},
   "outputs": [
    {
     "name": "stdout",
     "output_type": "stream",
     "text": [
      "予定を追加しました。: https://www.google.com/calendar/event?eid=bGNmNjlycmNmajI2bW9qbnY3ZWJtcDU0bzggbWF0Y2gubWF0c3V6b2VAbQ, lcf69rrcfj26mojnv7ebmp54o8\n"
     ]
    }
   ],
   "source": [
    "def add_event(service, title, start_time, end_time=None):\n",
    "    event = {\n",
    "        'summary':title,\n",
    "        'start': {'dateTime': start_time, 'timeZone': 'Asia/Tokyo'},\n",
    "        'end': {'dateTime': end_time, 'timeZone': 'Asia/Tokyo'}\n",
    "    }\n",
    "    event_result = service.events().insert(calendarId='primary', body=event).execute()\n",
    "    print(f'予定を追加しました。: {event_result.get(\"htmlLink\")}, {event_result.get(\"id\")}')\n",
    "\n",
    "add_event(service, 'テストイベント', '2024-12-09T10:00:00', '2024-12-09T11:00:00')"
   ]
  },
  {
   "cell_type": "code",
   "execution_count": 23,
   "metadata": {},
   "outputs": [
    {
     "name": "stdout",
     "output_type": "stream",
     "text": [
      "更新されたイベント: テストイベント２\n"
     ]
    }
   ],
   "source": [
    "def update_event(service, event_id, new_title):\n",
    "    event = service.events().get(calendarId='primary', eventId=event_id).execute()\n",
    "    event['summary'] = new_title\n",
    "    updated_event = service.events().update(calendarId='primary', eventId=event_id, body=event).execute()\n",
    "    print(f\"更新されたイベント: {updated_event['summary']}\")\n",
    "\n",
    "update_event(service, \"6fv3os3p2br3n0mgsf96vq5cig\", \"テストイベント２\")"
   ]
  },
  {
   "cell_type": "code",
   "execution_count": 25,
   "metadata": {},
   "outputs": [
    {
     "name": "stdout",
     "output_type": "stream",
     "text": [
      "予定されている時間：\n",
      "空いている時間：\n"
     ]
    },
    {
     "data": {
      "text/plain": [
       "[]"
      ]
     },
     "execution_count": 25,
     "metadata": {},
     "output_type": "execute_result"
    }
   ],
   "source": [
    "def list_free_times(service, period=3):\n",
    "    now = datetime.utcnow().isoformat() + 'Z'\n",
    "    xdays_later = (datetime.utcnow() + timedelta(days=period)).isoformat() + 'Z'\n",
    "    events_result = service.events().list(calendarId='primary', timeMin=now, timeMax=xdays_later, maxResults=10, singleEvents=True, orderBy='startTime').execute()\n",
    "    events = events_result.get('items', [])\n",
    "    busy_times = []\n",
    "    for event in events:\n",
    "        start = event['start'].get('dateTime', event['start'].get('date'))\n",
    "        end = event['end'].get('dateTime', event['end'].get('date'))\n",
    "        busy_times.append({'start': start, 'end': end})\n",
    "    print('予定されている時間：')\n",
    "    for bt in busy_times:\n",
    "        print(f\"- {bt['start']} - {bt['end']}\")\n",
    "    free_times = []\n",
    "    for i in range(len(busy_times) - 1):\n",
    "        start = busy_times[i]['end']\n",
    "        end = busy_times[i + 1]['start']\n",
    "        free_times.append({'start': start, 'end': end})\n",
    "    print('空いている時間：')\n",
    "    for ft in free_times:\n",
    "        print(f\"- {ft['start']} - {ft['end']}\")\n",
    "    return free_times\n",
    "\n",
    "list_free_times(service, 2)"
   ]
  },
  {
   "cell_type": "code",
   "execution_count": 58,
   "metadata": {},
   "outputs": [
    {
     "name": "stdout",
     "output_type": "stream",
     "text": [
      "予定：\n",
      "- 2024-12-09T10:00:00+09:00: テストイベント\n",
      "2024年12月9日午前10時: テストイベントがあります。\n"
     ]
    }
   ],
   "source": [
    "from openai import OpenAI\n",
    "\n",
    "with open(r\"C:\\Users\\Issei\\Documents\\API Tokens\\ChatGPT.txt\", 'r') as file:\n",
    "    OPENAI_API_KEY = file.read().rstrip()\n",
    "\n",
    "client = OpenAI(api_key=OPENAI_API_KEY)\n",
    "\n",
    "def suumarize_events(events):\n",
    "    event_text = \"\\n\".join([\n",
    "        f\"{event['start'].get('dateTime', event['start'].get('date'))}: {event['summary']}\" for event in events\n",
    "    ])\n",
    "\n",
    "    response = client.chat.completions.create(\n",
    "        model=\"gpt-4o-mini\",\n",
    "        messages=[\n",
    "            {\"role\": \"system\", \"content\": \"You are a professional secretary. Summarize the following events in japanese.\"},\n",
    "            {\"role\": \"user\", \"content\": f\"次のスケジュールを要約して:\\n{event_text}\"}\n",
    "        ]\n",
    "    )\n",
    "    return response.choices[0].message.content\n",
    "\n",
    "summary = suumarize_events(list_events(service))\n",
    "print(summary)"
   ]
  },
  {
   "cell_type": "code",
   "execution_count": 61,
   "metadata": {},
   "outputs": [
    {
     "name": "stdout",
     "output_type": "stream",
     "text": [
      "パースされたテキスト: {\"title\": \"gptのテストイベント\", \"start\": \"2024-12-10T13:00:00\", \"end\": \"2024-12-10T16:00:00\"}\n",
      "辞書にパースされたテキスト: {'title': 'gptのテストイベント', 'start': '2024-12-10T13:00:00', 'end': '2024-12-10T16:00:00'}\n",
      "予定を追加しました。: https://www.google.com/calendar/event?eid=NG1tcXRoZ3RqdDZtNmFpZXAzNGtoaDkzYWcgbWF0Y2gubWF0c3V6b2VAbQ, 4mmqthgtjt6m6aiep34khh93ag\n"
     ]
    }
   ],
   "source": [
    "import json\n",
    "def parse_and_add_event(user_input, service=service):\n",
    "    response = client.chat.completions.create(\n",
    "        model=\"gpt-4o-mini\",\n",
    "        messages=[\n",
    "            {\n",
    "                \"role\": \"system\",\n",
    "                \"content\": \"\"\"\n",
    "                You are a professional secretary. Parse the following text and add the event to the calendar.\n",
    "                Output Format: {\"title\": Event Name\", \"start\": \"YYYY-MM-DDTHH:MM:SS\", \"end\": \"YYYY-MM-DD-THH:MM:SS}\n",
    "                If the end time is not specified, it will be set to 1 hour after the start time.\n",
    "                \"\"\"\n",
    "            },\n",
    "            {\"role\": \"user\", \"content\": f\"today is {datetime.utcnow().isoformat() + 'Z'}: {user_input}\"}\n",
    "        ]\n",
    "    )\n",
    "    parsed_text = response.choices[0].message.content\n",
    "    print(f\"パースされたテキスト: {parsed_text}\")\n",
    "    try:\n",
    "        parsed_text = json.loads(parsed_text)\n",
    "        print(f\"辞書にパースされたテキスト: {parsed_text}\")\n",
    "        add_event(service, parsed_text['title'], parsed_text['start'], parsed_text['end'])\n",
    "    except json.JSONDecodeError as e:\n",
    "        print(f\"エラー: {e}\")\n",
    "        return\n",
    "\n",
    "\n",
    "parse_and_add_event(\"予定は明後日の13時から16時のgptのテストイベントです。\", service)"
   ]
  },
  {
   "cell_type": "code",
   "execution_count": null,
   "metadata": {},
   "outputs": [],
   "source": []
  }
 ],
 "metadata": {
  "kernelspec": {
   "display_name": "Python 3",
   "language": "python",
   "name": "python3"
  },
  "language_info": {
   "codemirror_mode": {
    "name": "ipython",
    "version": 3
   },
   "file_extension": ".py",
   "mimetype": "text/x-python",
   "name": "python",
   "nbconvert_exporter": "python",
   "pygments_lexer": "ipython3",
   "version": "3.11.9"
  }
 },
 "nbformat": 4,
 "nbformat_minor": 2
}
